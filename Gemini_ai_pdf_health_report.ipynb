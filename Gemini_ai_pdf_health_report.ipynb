{
  "nbformat": 4,
  "nbformat_minor": 0,
  "metadata": {
    "colab": {
      "provenance": [],
      "authorship_tag": "ABX9TyMuLJS0Pc4zkVDcaEiyVWG1",
      "include_colab_link": true
    },
    "kernelspec": {
      "name": "python3",
      "display_name": "Python 3"
    },
    "language_info": {
      "name": "python"
    }
  },
  "cells": [
    {
      "cell_type": "markdown",
      "metadata": {
        "id": "view-in-github",
        "colab_type": "text"
      },
      "source": [
        "<a href=\"https://colab.research.google.com/github/ruchi0451/NLP_AD/blob/main/Gemini_ai_pdf_health_report.ipynb\" target=\"_parent\"><img src=\"https://colab.research.google.com/assets/colab-badge.svg\" alt=\"Open In Colab\"/></a>"
      ]
    },
    {
      "cell_type": "code",
      "execution_count": 1,
      "metadata": {
        "colab": {
          "base_uri": "https://localhost:8080/"
        },
        "id": "JGIaMEKp-i5m",
        "outputId": "f35177e3-f1fc-49f4-dc45-a7d0cad75f43"
      },
      "outputs": [
        {
          "output_type": "stream",
          "name": "stdout",
          "text": [
            "Collecting pyPDF2\n",
            "  Downloading pypdf2-3.0.1-py3-none-any.whl.metadata (6.8 kB)\n",
            "Downloading pypdf2-3.0.1-py3-none-any.whl (232 kB)\n",
            "\u001b[2K   \u001b[90m━━━━━━━━━━━━━━━━━━━━━━━━━━━━━━━━━━━━━━━━\u001b[0m \u001b[32m232.6/232.6 kB\u001b[0m \u001b[31m4.2 MB/s\u001b[0m eta \u001b[36m0:00:00\u001b[0m\n",
            "\u001b[?25hInstalling collected packages: pyPDF2\n",
            "Successfully installed pyPDF2-3.0.1\n"
          ]
        }
      ],
      "source": [
        "!pip install pyPDF2"
      ]
    },
    {
      "cell_type": "code",
      "source": [
        "import google.generativeai as genai\n",
        "from google.colab import userdata\n",
        "GOOGLE_APT_KEY=userdata.get('GOOGLE_API_KEY')\n",
        "genai.configure(api_key=GOOGLE_APT_KEY)"
      ],
      "metadata": {
        "id": "lAE3IDz1-vsi"
      },
      "execution_count": 7,
      "outputs": []
    },
    {
      "cell_type": "code",
      "source": [
        "import PyPDF2\n",
        "def extract_text_from_pdf(pdf_path):\n",
        "  \"\"\"Extracts text from a given health report PDF using pyPDF2.\"\"\"\n",
        "  text = \"\"\n",
        "  with open(pdf_path, \"rb\") as file:\n",
        "    reader = PyPDF2.pdfReader(file)\n",
        "    for page in reader.pages:\n",
        "      text += page.extract_text() + \"\\n\"\n",
        "  return text"
      ],
      "metadata": {
        "id": "rIexBtJk_aIo"
      },
      "execution_count": 11,
      "outputs": []
    },
    {
      "cell_type": "code",
      "source": [
        "def extract_health_insights(text):\n",
        "  \"\"\"Asks Gemini AI to extract key medical insights from the report.\"\"\"\n",
        "  model = genai.GenerativeModel(\"gemini-1.5-flash\")\n",
        "  prompt = f\"Extract key insights from the following health report\\n\\n{text}\"\n",
        "  response = model.generate_content(prompt)\n",
        "  return response.text\n",
        "\n",
        "pdf_file = \"health_report.pdf\"\n",
        "extracted_text = extract_text_from_pdf(pdf_file)\n",
        "insights = extract_health_insights(extracted_text)\n",
        "print(\"Key Insights:\\n\", insights)"
      ],
      "metadata": {
        "colab": {
          "base_uri": "https://localhost:8080/",
          "height": 488
        },
        "id": "4FabSIt4A0IM",
        "outputId": "0b6516ef-aae0-45a0-ad42-64c48fccbd2f"
      },
      "execution_count": 18,
      "outputs": [
        {
          "output_type": "stream",
          "name": "stdout",
          "text": [
            "Key Insights:\n",
            " Mr. Kishan Goud's (MR Number: MR2100003157) health report from February 1st, 2021, reveals the following key insights:\n",
            "\n",
            "**Infectious Disease Markers:**\n",
            "\n",
            "* **Widal Test:** Elevated titers for *Salmonella Typhi* \"O\" (1:160) and \"H\" (1:80) suggest a possible past or current *Salmonella Typhi* infection (typhoid fever).  The reference range is 1:20, indicating a significant elevation above the normal range.  *Salmonella Paratyphi* \"AH\" and \"BH\" titers are within the normal range.\n",
            "* **Dengue Serology:**  Negative results for Dengue NS1 antigen, IgG, and IgM antibodies rule out a current or recent dengue fever infection.\n",
            "* **Malaria Test:**  Negative results for both *Plasmodium vivax* and *Plasmodium falciparum* indicate the absence of malaria.\n",
            "\n",
            "**Hematology:**\n",
            "\n",
            "* **Complete Blood Picture (CBC):**  All values (Hemoglobin, RBC, WBC, Platelets, PCV) are within the normal range, indicating no significant anemia, infection, or bleeding disorder. Differential count also shows normal ranges for neutrophils, lymphocytes, eosinophils, monocytes and basophils.\n",
            "* **Erythrocyte Sedimentation Rate (ESR):** Elevated ESR (26 mm/hr in the first hour, 52 mm/hr in the second hour; normal range 0-8 mm/hr) suggests inflammation or infection. This corroborates the slightly elevated Widal test results.\n",
            "\n",
            "**Biochemistry:**\n",
            "\n",
            "* **Liver Function Tests (LFTs):** All liver function tests (bilirubin, alkaline phosphatase, SGOT, SGPT, total protein, albumin, globulin, A/G ratio) are within normal limits, indicating no significant liver dysfunction.\n",
            "* **Serum Electrolytes:** Sodium (122 mmol/l; normal range 135-146 mmol/l) is slightly low, while potassium and chloride levels are within normal ranges.  The low sodium warrants further investigation.\n",
            "* **HbA1c:**  HbA1c level of 5.4% falls within the normal non-diabetic range (4-6%), indicating good blood sugar control.\n",
            "* **Serum Creatinine:**  Serum creatinine (0.8 mg/dl; normal range 0.6-1.25 mg/dl) is within the normal range, suggesting normal kidney function.\n",
            "* **Random Blood Glucose:**  Not reported in this section of the report.  It would be useful to investigate this further.\n",
            "\n",
            "**Overall:**\n",
            "\n",
            "The report indicates a possible past or present *Salmonella Typhi* infection, supported by the elevated Widal test and ESR.  The slightly low sodium level requires further evaluation.  All other tests are within normal ranges or negative for the investigated infections.  The patient's doctor (Krishna Prasad) should interpret these results in the context of the patient's clinical presentation to determine a diagnosis and appropriate treatment.\n",
            "\n"
          ]
        }
      ]
    },
    {
      "cell_type": "code",
      "source": [
        "def summarize_health_report(text):\n",
        "  \"\"\"Summarizes the health report using Gemini AI.\"\"\"\n",
        "  model = genai.GenerativeModel(\"gemini-1.5-flash\")\n",
        "  prompt = f\"Extract key insights from the following health report\\n\\n{text}\"\n",
        "  response = model.generate_content(prompt)\n",
        "  return response.text\n",
        "summary = summarize_health_report(extracted_text)\n",
        "print(\"Summary:\\n\", summary)\n"
      ],
      "metadata": {
        "colab": {
          "base_uri": "https://localhost:8080/",
          "height": 593
        },
        "id": "J5qanPADDGSS",
        "outputId": "8e1eb070-4ccc-43f1-b64a-09256a9cf92e"
      },
      "execution_count": 19,
      "outputs": [
        {
          "output_type": "stream",
          "name": "stdout",
          "text": [
            "Summary:\n",
            " **Key Insights from Mr. Kishan Goud's Health Report (MR2100003157):**\n",
            "\n",
            "The report reveals several test results, some noteworthy:\n",
            "\n",
            "* **Widal Test:**  Elevated titers for *Salmonella Typhi* \"O\" (1:160) and \"H\" (1:80) suggest a *possible* past or current typhoid infection.  The reference range is 1:20, indicating a positive result.  Further investigation may be needed to confirm active infection.\n",
            "\n",
            "* **Dengue Serology:** Negative for Dengue NS1 antigen, IgG, and IgM antibodies. This rules out a recent or current dengue fever infection.\n",
            "\n",
            "* **Elevated ESR:**  The Erythrocyte Sedimentation Rate (ESR) is significantly elevated (26 mm/hr in the first hour, 52 mm/hr in the second). This indicates inflammation or infection somewhere in the body, but is non-specific.  It could be related to the possible typhoid infection.\n",
            "\n",
            "* **Negative Malaria Test:** Rapid malaria tests for *Plasmodium falciparum* and *Plasmodium vivax* are negative, ruling out malaria.\n",
            "\n",
            "* **Complete Blood Picture (CBC):**  All values within normal limits except slightly lower platelet count (2.0 lakhs/cumm). This is generally considered on the lower end of normal but may not be clinically significant.\n",
            "\n",
            "\n",
            "* **HbA1c:**  Within the normal non-diabetic range (5.4%), indicating good blood sugar control.\n",
            "\n",
            "\n",
            "* **Serum Creatinine:** Within the normal range (0.8 mg/dl), indicating normal kidney function.\n",
            "\n",
            "* **Random Blood Glucose:**  Resulting value is missing from the text.\n",
            "\n",
            "* **Liver Function Tests (LFTs):**  All liver enzymes (bilirubin, alkaline phosphatase, SGOT, SGPT) are within normal limits, suggesting no significant liver damage.  Total protein and albumin levels are also normal.\n",
            "\n",
            "* **Serum Electrolytes:** Sodium is slightly low (122 mmol/l), while potassium and chloride are within the normal range.  The low sodium warrants further investigation.\n",
            "\n",
            "\n",
            "**Overall:**\n",
            "\n",
            "The most significant findings are the elevated Widal test titers suggesting possible typhoid infection and the elevated ESR indicating inflammation.  The low sodium level also requires attention.  The other tests are generally reassuring and largely rule out other infectious diseases considered.  The physician needs to correlate these findings with the patient's clinical presentation to reach a diagnosis and determine the appropriate management plan.  The missing Random Blood Glucose value prevents a complete picture of the patient's overall health.\n",
            "\n"
          ]
        }
      ]
    },
    {
      "cell_type": "code",
      "source": [
        "def detect_abnormalities(text):\n",
        "  \"\"\"Analyzes lab test results and flags abnormal values.\"\"\"\n",
        "  model = genai.GenerativeModel(\"gemini-1.5-flash\")\n",
        "  prompt = f\"Analyzes lab test results in the following health report and highlight any abnormal values\\n\\n{text}\"\n",
        "  response = model.generate_content(prompt)\n",
        "  return response.text\n",
        "abnormalities = detect_abnormalities(extracted_text)\n",
        "print(\"Potential Abnormalities:\\n\", abnormalities)\n"
      ],
      "metadata": {
        "colab": {
          "base_uri": "https://localhost:8080/",
          "height": 349
        },
        "id": "eLumEqPoFgrB",
        "outputId": "f8275f81-30c4-4398-96e0-16a9da87be83"
      },
      "execution_count": 20,
      "outputs": [
        {
          "output_type": "stream",
          "name": "stdout",
          "text": [
            "Potential Abnormalities:\n",
            " Based on the provided lab report for Mr. Kishan Goud, the following values fall outside the given biological reference ranges, indicating potential abnormalities:\n",
            "\n",
            "* **ESR 1st Hour:** 26 mm/hr  (Reference range: 0-8 mm/hr).  This significantly elevated ESR suggests inflammation or infection somewhere in the body.\n",
            "\n",
            "* **ESR 2nd Hour:** 52 mm/hr (No reference range provided, but considerably higher than the 1st hour, further supporting significant inflammation).\n",
            "\n",
            "* **RBC:** 4.3 mill/cumm (Reference range: 4.5 - 5.5 mill/cumm). While only slightly low, this might be significant depending on other factors and warrants consideration.\n",
            "\n",
            "* **Serum Sodium:** 122 mmol/l (Reference range: 135 - 146 mmol/l). This is a significantly low sodium level (hyponatremia), which can have various serious causes and requires investigation.\n",
            "\n",
            "* **Serum Chloride:** 97 mmol/l (Reference range: 98 - 107 mmol/l). Slightly low, but might be clinically relevant in context with the hyponatremia.\n",
            "\n",
            "**Widal Test:** While the Widal test results show elevated titers for *S. Typhi* O (1:160) and *S. Typhi* H (1:80) compared to the reference range of 1:20,  **interpretation of the Widal test is complex and requires clinical correlation.**  A single elevated titer doesn't confirm typhoid fever.  Other factors like the patient's symptoms, exposure history, and the possibility of prior infection or vaccination need to be considered by the physician.  The elevated titers do however suggest *possible* past or present typhoid infection, warranting further investigation and clinical judgment.\n",
            "\n",
            "\n",
            "**Important Note:**  This analysis is for informational purposes only.  It's crucial that Mr. Kishan Goud's physician interprets these results in the context of his complete medical history, physical examination, and other diagnostic tests.  The abnormalities highlighted above require further investigation to determine the underlying cause and appropriate treatment.\n",
            "\n"
          ]
        }
      ]
    },
    {
      "cell_type": "code",
      "source": [
        "def explain_medical_terms(text):\n",
        "  \"\"\"Asks Gemini AI to simplify medical terms for patient understanding.\"\"\"\n",
        "  model = genai.GenerativeModel(\"gemini-1.5-flash\")\n",
        "  prompt = f\"Explain the medical terms in the following health report in simple language:\\n\\n{text}\"\n",
        "  response = model.generate_content(prompt)\n",
        "  return response.text\n",
        "explanation = explain_medical_terms(extracted_text)\n",
        "print(\"Simplified Explanation:\\n\", explanation)\n"
      ],
      "metadata": {
        "colab": {
          "base_uri": "https://localhost:8080/",
          "height": 1000
        },
        "id": "MRL6uHioHR4J",
        "outputId": "9f5753ba-985c-4a30-f327-a7d91d381a07"
      },
      "execution_count": 21,
      "outputs": [
        {
          "output_type": "stream",
          "name": "stdout",
          "text": [
            "Simplified Explanation:\n",
            " This report shows the results of various blood tests performed on Mr. Kishan Goud.  Let's break down each section:\n",
            "\n",
            "**1. WIDAL Test:** This test checks for antibodies against *Salmonella* Typhi and Paratyphi, bacteria that cause typhoid fever.  The numbers (e.g., 1:160) represent the dilution of the blood sample at which antibodies were still detected.  Higher numbers suggest a higher antibody level, potentially indicating a past or present infection.\n",
            "\n",
            "* **S. Typhi \"O\" 1:160:**  Indicates a higher-than-normal antibody level against the \"O\" antigen of *Salmonella* Typhi.  This antigen is part of the bacteria's cell wall.\n",
            "* **S. Typhi \"H\" 1:80:** Indicates a higher-than-normal antibody level against the \"H\" antigen of *Salmonella* Typhi. This antigen is part of the bacteria's flagella (the tail-like structure that helps it move).\n",
            "* **S. Paratyphi \"AH\" 1:20:** Antibody level is within the normal range for this antigen.\n",
            "* **S. Paratyphi \"BH\" 1:20:** Antibody level is within the normal range for this antigen.\n",
            "\n",
            "**2. Dengue Serology:** This tests for dengue fever.  The results are negative for all three components tested:\n",
            "\n",
            "* **Dengue NS1 Antigen:** Negative – meaning no dengue virus protein was detected.\n",
            "* **Dengue IgG:** Negative – meaning no antibodies indicating past dengue infection were found.\n",
            "* **Dengue IgM:** Negative – meaning no antibodies indicating a recent dengue infection were found.\n",
            "\n",
            "**3. Erythrocyte Sedimentation Rate (ESR):** This test measures how quickly red blood cells settle in a test tube. A higher ESR can indicate inflammation or infection in the body.\n",
            "\n",
            "* **ESR 1st Hour 26 mm/hr:** Slightly elevated; the normal range is 0-8 mm/hr.\n",
            "* **ESR 2nd Hour 52 mm/hr:**  Significantly elevated.\n",
            "\n",
            "**4. Rapid Malaria Test:** This is a quick test to detect malaria parasites. Both tests are negative.\n",
            "\n",
            "* **P.V (Plasmodium vivax):** Negative\n",
            "* **P.F (Plasmodium falciparum):** Negative\n",
            "\n",
            "**5. Complete Blood Picture (CBC):** This provides information about different components of the blood.\n",
            "\n",
            "* **Hemoglobin (Hb):** 13.6 gms% (within normal range). This measures the oxygen-carrying capacity of the blood.\n",
            "* **Red Blood Cells (RBC):** 4.3 mill/cumm (slightly low, but within the acceptable range).\n",
            "* **White Blood Cells (WBC):** 7,200 cells/cumm (within normal range).  These fight infection.\n",
            "* **Platelet Count:** 2.0 lakhs/cumm (within normal range).  These help with blood clotting.\n",
            "* **Packed Cell Volume (PCV):** 40.5% (within normal range).  The percentage of red blood cells in the blood.\n",
            "* **Differential Count:** This breaks down the types of white blood cells.  All are within or near the normal ranges.\n",
            "\n",
            "**6. HbA1c:** This test measures average blood sugar levels over the past 2-3 months.  It indicates how well diabetes is being controlled.\n",
            "\n",
            "* **HbA1c 5.4%:**  This is within the normal range for someone who does not have diabetes.\n",
            "\n",
            "**7. Serum Creatinine:** This measures kidney function.\n",
            "\n",
            "* **Serum Creatinine 0.8 mg/dl:** Within the normal range.\n",
            "\n",
            "**8. Random Blood Glucose:** This measures blood sugar level at a single point in time.\n",
            "\n",
            "* **Random Blood Glucose:**  The result is not provided. However, the reference range is 60-170 mg/dl.\n",
            "\n",
            "**9. Liver Function Test (LFT):**  These tests evaluate liver health. All values are within normal limits, except for globulin, which is slightly low.\n",
            "\n",
            "* **Total Bilirubin, Direct Bilirubin, Indirect Bilirubin:** All within normal ranges. These indicate how well the liver processes bilirubin, a waste product.\n",
            "* **Alkaline Phosphatase (ALP), SGOT (AST), SGPT (ALT), Total Protein, Albumin, Globulin, A/G Ratio:** All within or near the normal range indicating normal liver function.\n",
            "\n",
            "**10. Serum Electrolytes:** These tests measure levels of important minerals in the blood.\n",
            "\n",
            "* **Serum Sodium:** Slightly low (122 mmol/l; normal range 135-146 mmol/l).\n",
            "* **Serum Potassium:** Within normal range.\n",
            "* **Serum Chloride:** Slightly low (97 mmol/l; normal range 98-107 mmol/l).\n",
            "\n",
            "\n",
            "**In summary:** While some values are slightly outside the ideal range, many are within the normal ranges. The elevated ESR and slightly elevated Widal test results (especially S.Typhi \"O\") suggest a possible past or present infection warranting further investigation.  The low sodium and chloride require attention and would necessitate reviewing the patient's other clinical signs and symptoms to evaluate the clinical significance.  The doctor should interpret these results in the context of Mr. Kishan Goud's overall clinical presentation and medical history.\n",
            "\n"
          ]
        }
      ]
    },
    {
      "cell_type": "code",
      "source": [
        "def ask_gemini_about_report(text, question):\n",
        "  \"\"\"Allows users to ask questions about the health report using Gemini AI.\"\"\"\n",
        "  model = genai.GenerativeModel(\"gemini-1.5-flash\")\n",
        "  prompt = f\"Answer the following question about the health report:\\n\\n{question}\\n\\n{text}\"\n",
        "  response = model.generate_content(prompt)\n",
        "  return response.text\n",
        "question = \"What is the patient's diagnosis?\"\n",
        "answer = ask_gemini_about_report(extracted_text, question)\n",
        "print(\"Answer:\\n\", answer)"
      ],
      "metadata": {
        "colab": {
          "base_uri": "https://localhost:8080/",
          "height": 89
        },
        "id": "3ISh2ncuI4Iu",
        "outputId": "772ca67e-4781-419e-c46b-d4c78a11bd6a"
      },
      "execution_count": 22,
      "outputs": [
        {
          "output_type": "stream",
          "name": "stdout",
          "text": [
            "Answer:\n",
            " Based on the provided lab report, Mr. Kishan Goud's diagnosis is not explicitly stated.  However, the elevated S. Typhi \"O\" (1:160) and S. Typhi \"H\" (1:80) titers in the Widal test suggest a **possible typhoid fever infection**.  The other tests are largely unremarkable, though the elevated ESR (26 mm/hr in the first hour, 52 mm/hr in the second) supports the possibility of an inflammatory process, consistent with typhoid.  Further clinical evaluation and interpretation by the attending physician (Dr. Krishna Prasad) are necessary for a definitive diagnosis.\n",
            "\n"
          ]
        }
      ]
    },
    {
      "cell_type": "code",
      "source": [],
      "metadata": {
        "id": "gFutv1yNKCAe"
      },
      "execution_count": null,
      "outputs": []
    }
  ]
}