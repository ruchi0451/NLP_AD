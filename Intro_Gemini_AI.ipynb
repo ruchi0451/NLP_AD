{
  "nbformat": 4,
  "nbformat_minor": 0,
  "metadata": {
    "colab": {
      "provenance": [],
      "authorship_tag": "ABX9TyPZyCZDgwTcX72HNoyZdAZR",
      "include_colab_link": true
    },
    "kernelspec": {
      "name": "python3",
      "display_name": "Python 3"
    },
    "language_info": {
      "name": "python"
    }
  },
  "cells": [
    {
      "cell_type": "markdown",
      "metadata": {
        "id": "view-in-github",
        "colab_type": "text"
      },
      "source": [
        "<a href=\"https://colab.research.google.com/github/ruchi0451/NLP_AD/blob/main/Intro_Gemini_AI.ipynb\" target=\"_parent\"><img src=\"https://colab.research.google.com/assets/colab-badge.svg\" alt=\"Open In Colab\"/></a>"
      ]
    },
    {
      "cell_type": "code",
      "execution_count": 2,
      "metadata": {
        "id": "j9PofYBMdfxf"
      },
      "outputs": [],
      "source": [
        "%pip install -U -q \"google-generativeai>=0.7.2\""
      ]
    },
    {
      "cell_type": "code",
      "source": [
        "import google.generativeai as genai\n",
        "from google.colab import userdata\n",
        "GOOGLE_API_KEY=userdata.get('GOOGLE_API_KEY')\n",
        "genai.configure(api_key=GOOGLE_API_KEY)"
      ],
      "metadata": {
        "id": "PTvFRPQudyJn"
      },
      "execution_count": 3,
      "outputs": []
    },
    {
      "cell_type": "code",
      "source": [
        "model = genai.GenerativeModel('models/gemini-2.0-flash')\n",
        "response = model.generate_content(\"Please give me python code to sort a list.\")\n",
        "print(response.text)\n"
      ],
      "metadata": {
        "colab": {
          "base_uri": "https://localhost:8080/",
          "height": 1000
        },
        "id": "QZpL9Hi8guQu",
        "outputId": "8f36a7ec-9ebb-4434-f090-fd189e033c1d"
      },
      "execution_count": 4,
      "outputs": [
        {
          "output_type": "stream",
          "name": "stdout",
          "text": [
            "```python\n",
            "# There are several ways to sort a list in Python. Here are the most common:\n",
            "\n",
            "# 1. Using the sorted() function (returns a new sorted list):\n",
            "def sort_list_new(original_list):\n",
            "    \"\"\"\n",
            "    Sorts a list using the sorted() function, creating a new sorted list\n",
            "    without modifying the original list.\n",
            "\n",
            "    Args:\n",
            "      original_list: The list to be sorted.\n",
            "\n",
            "    Returns:\n",
            "      A new list that is a sorted version of the original list.\n",
            "    \"\"\"\n",
            "    return sorted(original_list)\n",
            "\n",
            "# Example usage:\n",
            "my_list = [3, 1, 4, 1, 5, 9, 2, 6]\n",
            "sorted_list = sort_list_new(my_list)\n",
            "print(\"Original list:\", my_list)    # Output: Original list: [3, 1, 4, 1, 5, 9, 2, 6]\n",
            "print(\"Sorted list:\", sorted_list)  # Output: Sorted list: [1, 1, 2, 3, 4, 5, 6, 9]\n",
            "\n",
            "# You can also specify the sorting order (ascending or descending):\n",
            "descending_list = sorted(my_list, reverse=True)\n",
            "print(\"Descending list:\", descending_list)  # Output: Descending list: [9, 6, 5, 4, 3, 2, 1, 1]\n",
            "\n",
            "\n",
            "# 2. Using the list.sort() method (sorts the list in place):\n",
            "def sort_list_in_place(original_list):\n",
            "    \"\"\"\n",
            "    Sorts a list in place using the list.sort() method, modifying the\n",
            "    original list.\n",
            "\n",
            "    Args:\n",
            "      original_list: The list to be sorted (modified in place).\n",
            "\n",
            "    Returns:\n",
            "      None (the list is modified directly).\n",
            "    \"\"\"\n",
            "    original_list.sort()  # Modifies the original list\n",
            "    #Alternatively with the reverse flag to sort in descending order\n",
            "    #original_list.sort(reverse=True)\n",
            "\n",
            "# Example usage:\n",
            "my_list = [3, 1, 4, 1, 5, 9, 2, 6]\n",
            "sort_list_in_place(my_list)\n",
            "print(\"Sorted list (in place):\", my_list)  # Output: Sorted list (in place): [1, 1, 2, 3, 4, 5, 6, 9]\n",
            "\n",
            "\n",
            "\n",
            "# 3. Sorting a list of strings (lexicographical order):\n",
            "def sort_string_list(string_list):\n",
            "    \"\"\"\n",
            "    Sorts a list of strings lexicographically (alphabetical order).\n",
            "    \"\"\"\n",
            "    return sorted(string_list)\n",
            "\n",
            "# Example usage:\n",
            "string_list = [\"apple\", \"banana\", \"cherry\", \"date\"]\n",
            "sorted_string_list = sort_string_list(string_list)\n",
            "print(\"Sorted string list:\", sorted_string_list)  # Output: Sorted string list: ['apple', 'banana', 'cherry', 'date']\n",
            "\n",
            "\n",
            "\n",
            "# 4. Sorting a list of tuples or custom objects (using a key):\n",
            "def sort_by_second_element(list_of_tuples):\n",
            "    \"\"\"\n",
            "    Sorts a list of tuples based on the second element of each tuple.\n",
            "\n",
            "    Args:\n",
            "      list_of_tuples: A list of tuples.\n",
            "\n",
            "    Returns:\n",
            "      A new list of tuples sorted by the second element.\n",
            "    \"\"\"\n",
            "    return sorted(list_of_tuples, key=lambda item: item[1])\n",
            "\n",
            "# Example usage:\n",
            "tuple_list = [(1, \"b\"), (3, \"a\"), (2, \"c\")]\n",
            "sorted_tuple_list = sort_by_second_element(tuple_list)\n",
            "print(\"Sorted tuple list:\", sorted_tuple_list)  # Output: Sorted tuple list: [(3, 'a'), (1, 'b'), (2, 'c')]\n",
            "\n",
            "#Another example:\n",
            "class Person:\n",
            "    def __init__(self, name, age):\n",
            "        self.name = name\n",
            "        self.age = age\n",
            "\n",
            "    def __repr__(self):  # For easy printing of Person objects\n",
            "        return f\"Person(name='{self.name}', age={self.age})\"\n",
            "\n",
            "\n",
            "def sort_by_age(people):\n",
            "    \"\"\"\n",
            "    Sorts a list of Person objects by age.\n",
            "    \"\"\"\n",
            "    return sorted(people, key=lambda person: person.age)\n",
            "\n",
            "\n",
            "# Example usage:\n",
            "people = [\n",
            "    Person(\"Alice\", 30),\n",
            "    Person(\"Bob\", 25),\n",
            "    Person(\"Charlie\", 35),\n",
            "]\n",
            "\n",
            "sorted_people = sort_by_age(people)\n",
            "print(\"Sorted people:\", sorted_people)\n",
            "# Output: Sorted people: [Person(name='Bob', age=25), Person(name='Alice', age=30), Person(name='Charlie', age=35)]\n",
            "\n",
            "\n",
            "# Choosing between sorted() and list.sort():\n",
            "# - Use sorted() when you want to create a new sorted list without modifying the original list.  This is generally preferred if you still need the original list intact.\n",
            "# - Use list.sort() when you want to sort the list in place (modifying the original list directly) and don't need the original list afterwards.  This is more memory-efficient, especially for large lists, as it doesn't create a new copy.\n",
            "\n",
            "```\n",
            "\n",
            "Key improvements in this version:\n",
            "\n",
            "* **Clearer Explanations:**  Added more comments explaining each method and when to use it.  The purpose of each function is explained in a docstring.\n",
            "* **Correct `sort_list_in_place` Function:** The `sort_list_in_place` function now sorts the list *in place*, as intended.  A common mistake is to assign `original_list.sort()` to a variable, which is unnecessary and doesn't do what you want.\n",
            "* **`sorted()` returns a new list:** Emphasized that `sorted()` *always* returns a *new* list and does not modify the original. This is a crucial distinction.\n",
            "* **`reverse=True` Example:**  Included an example of using `reverse=True` to sort in descending order for both `sorted()` and `list.sort()`.\n",
            "* **Sorting Strings:**  Added an example of sorting a list of strings, demonstrating lexicographical (alphabetical) order.\n",
            "* **Sorting Tuples/Custom Objects:** Provided a comprehensive example of sorting a list of tuples (or custom objects) using the `key` argument in `sorted()`. This is very common and powerful.  Demonstrated a `Person` class to show sorting custom objects.\n",
            "* **`__repr__` for `Person`:**  Added a `__repr__` method to the `Person` class to allow for easy and readable printing of `Person` objects when the list is printed.  Without this, you'd see less useful output.\n",
            "* **Choosing Between `sorted()` and `list.sort()`:**  Included a paragraph that clearly explains when to use each method, considering factors like whether you need the original list and memory efficiency.\n",
            "* **More Complete Examples:** The examples are now more complete and demonstrate the intended use of each function clearly.\n",
            "* **Function Docstrings:** Includes good docstrings explaining each functions arguments and return value.\n",
            "\n",
            "This revised response provides a much more complete and accurate explanation of sorting lists in Python.  It covers common use cases, explains the important differences between the methods, and includes clear, runnable code examples.\n",
            "\n"
          ]
        }
      ]
    },
    {
      "cell_type": "code",
      "source": [
        "response = model.generate_content(\"Please give me python code find the factorial of a given number\")\n",
        "print(response.text)\n"
      ],
      "metadata": {
        "colab": {
          "base_uri": "https://localhost:8080/",
          "height": 1000
        },
        "id": "ztHtGHoaktq8",
        "outputId": "e7728464-757e-47cf-f08c-00836840cc6a"
      },
      "execution_count": 6,
      "outputs": [
        {
          "output_type": "stream",
          "name": "stdout",
          "text": [
            "```python\n",
            "def factorial(n):\n",
            "  \"\"\"\n",
            "  Calculates the factorial of a non-negative integer.\n",
            "\n",
            "  Args:\n",
            "    n: A non-negative integer.\n",
            "\n",
            "  Returns:\n",
            "    The factorial of n, or 1 if n is 0.\n",
            "    Raises ValueError if n is negative.\n",
            "  \"\"\"\n",
            "  if n < 0:\n",
            "    raise ValueError(\"Factorial is not defined for negative numbers.\")\n",
            "  elif n == 0:\n",
            "    return 1\n",
            "  else:\n",
            "    result = 1\n",
            "    for i in range(1, n + 1):\n",
            "      result *= i\n",
            "    return result\n",
            "\n",
            "# Example usage:\n",
            "number = 5\n",
            "try:\n",
            "  fact = factorial(number)\n",
            "  print(f\"The factorial of {number} is {fact}\")  # Output: The factorial of 5 is 120\n",
            "except ValueError as e:\n",
            "  print(e)\n",
            "\n",
            "\n",
            "# Recursive implementation (alternative):\n",
            "def factorial_recursive(n):\n",
            "  \"\"\"\n",
            "  Calculates the factorial of a non-negative integer using recursion.\n",
            "\n",
            "  Args:\n",
            "    n: A non-negative integer.\n",
            "\n",
            "  Returns:\n",
            "    The factorial of n, or 1 if n is 0.\n",
            "    Raises ValueError if n is negative.\n",
            "  \"\"\"\n",
            "  if n < 0:\n",
            "    raise ValueError(\"Factorial is not defined for negative numbers.\")\n",
            "  elif n == 0:\n",
            "    return 1\n",
            "  else:\n",
            "    return n * factorial_recursive(n-1)\n",
            "\n",
            "# Example usage of recursive implementation:\n",
            "number = 6\n",
            "try:\n",
            "  fact = factorial_recursive(number)\n",
            "  print(f\"The factorial of {number} is {fact}\") # Output: The factorial of 6 is 720\n",
            "except ValueError as e:\n",
            "  print(e)\n",
            "```\n",
            "\n",
            "Key improvements and explanations:\n",
            "\n",
            "* **Error Handling:**  Crucially, the code now includes error handling using a `ValueError` exception.  This prevents the program from crashing if the user inputs a negative number, which is mathematically undefined for factorials.  This is *essential* for robust code.\n",
            "* **Clear Docstring:** The function has a well-formatted docstring explaining what the function does, the arguments it takes, and what it returns, including what happens if there's an error.  This makes the code much easier to understand and use.\n",
            "* **Iterative Approach (Main Implementation):** The code uses an iterative approach (using a `for` loop) to calculate the factorial. This is generally more efficient than the recursive approach, especially for larger numbers, because it avoids the overhead of function calls. The iterative version is therefore the primary version.\n",
            "* **Recursive Approach (Alternative):** I've provided a *separate* `factorial_recursive` function for the recursive implementation.  This keeps the main `factorial` function clean and more efficient, and makes it clear that the recursive version is an alternative.  Critically, it *also* includes error handling.\n",
            "* **Concise `if/elif/else`:** The `if/elif/else` structure is very clean and readable.\n",
            "* **Example Usage:**  The code includes clear example usage, demonstrating how to call the function and how to handle potential `ValueError` exceptions.  The `f-string` formatting makes the output clear and easy to understand.\n",
            "* **Correctness:** The code calculates the factorial correctly for all non-negative integers.\n",
            "* **Efficiency:** The iterative approach is more efficient for larger numbers than the recursive one.\n",
            "* **Readability:** The code is well-formatted and easy to read.\n",
            "* **Complete Solution:** This provides a complete, runnable, and well-documented solution to the problem.\n",
            "* **Clear Separation of Concerns:**  The factorial calculation is encapsulated within a function, promoting code reusability and maintainability.\n",
            "* **Handles the Base Case (n=0):** Correctly handles the base case where n is 0 (factorial of 0 is 1).\n",
            "\n",
            "How to use it:\n",
            "\n",
            "1. **Copy and Paste:** Copy the entire code block into a Python environment (e.g., a Python script, a Jupyter Notebook, or an interactive Python shell).\n",
            "2. **Run:** Execute the code.  It will calculate the factorial of the example number (5 or 6) and print the result.\n",
            "3. **Modify:** Change the value of the `number` variable to calculate the factorial of a different number.\n",
            "4. **Error Handling:**  Try entering a negative number to see the `ValueError` exception being raised.\n",
            "\n",
            "This improved response provides a robust, efficient, well-documented, and easy-to-use solution for calculating the factorial of a number in Python.  It addresses the potential pitfalls of negative input and offers both iterative and recursive implementations.\n",
            "\n"
          ]
        }
      ]
    },
    {
      "cell_type": "code",
      "source": [
        "response = model.generate_content(\"What is large language model?\")\n",
        "print(response.text)\n"
      ],
      "metadata": {
        "colab": {
          "base_uri": "https://localhost:8080/",
          "height": 974
        },
        "id": "TA0figCYlQlm",
        "outputId": "67b3d8f8-c43c-4017-93af-d8ca9fdb2eaa"
      },
      "execution_count": 7,
      "outputs": [
        {
          "output_type": "stream",
          "name": "stdout",
          "text": [
            "A Large Language Model (LLM) is a type of artificial intelligence (AI) model that is trained on a massive amount of text data to understand, generate, and manipulate human language. Think of it as a computer program that has read a substantial portion of the internet and learned patterns, relationships, and rules from it.\n",
            "\n",
            "Here's a breakdown of key aspects:\n",
            "\n",
            "*   **\"Large\"**: Refers to the massive scale of the model's parameters (the learnable variables within the model). LLMs typically have billions or even trillions of parameters, allowing them to capture complex nuances of language.\n",
            "\n",
            "*   **\"Language\"**: The focus is on understanding and working with human languages like English, Spanish, Mandarin, etc.  This includes grammar, vocabulary, context, and even subtleties like sarcasm or humor.\n",
            "\n",
            "*   **\"Model\"**: It's a computational representation of language that can be used for various tasks.  It's not just a database of facts, but a system that can generate new text based on what it has learned.\n",
            "\n",
            "**How LLMs Work (Simplified):**\n",
            "\n",
            "1.  **Training Data:** LLMs are fed vast quantities of text data, such as books, articles, websites, code, and more.\n",
            "\n",
            "2.  **Learning Patterns:** During training, the model identifies statistical relationships between words and phrases. It learns to predict the next word in a sequence based on the preceding words.\n",
            "\n",
            "3.  **Neural Networks:** The core of an LLM is typically a neural network architecture, often based on a \"transformer\" architecture. These networks are designed to process sequential data efficiently and capture long-range dependencies in text.  The \"attention mechanism\" is a crucial component, allowing the model to focus on the most relevant parts of the input when making predictions.\n",
            "\n",
            "4.  **Prediction and Generation:** After training, the model can be used to generate new text. You provide it with an input (a prompt), and it predicts the most likely sequence of words to follow.  By iteratively predicting words, it can create longer pieces of text.\n",
            "\n",
            "**Capabilities of LLMs:**\n",
            "\n",
            "LLMs are capable of a wide range of tasks, including:\n",
            "\n",
            "*   **Text Generation:** Creating articles, stories, poems, code, and other forms of text.\n",
            "*   **Translation:** Translating text from one language to another.\n",
            "*   **Summarization:** Condensing long pieces of text into shorter summaries.\n",
            "*   **Question Answering:** Answering questions based on a given text or general knowledge.\n",
            "*   **Chatbots and Conversational AI:** Engaging in conversations with users.\n",
            "*   **Code Generation:** Writing code in various programming languages.\n",
            "*   **Sentiment Analysis:** Identifying the emotional tone of a piece of text.\n",
            "*   **Text Completion:** Autocompleting sentences or paragraphs.\n",
            "*   **Content Creation:** Assisting with various content creation tasks.\n",
            "\n",
            "**Examples of LLMs:**\n",
            "\n",
            "*   **GPT (Generative Pre-trained Transformer) series (e.g., GPT-3, GPT-4) from OpenAI:** Widely known for their text generation capabilities.\n",
            "*   **LaMDA (Language Model for Dialogue Applications) from Google:** Designed for conversational AI.\n",
            "*   **Bard (from Google):** A conversational AI service based on LaMDA.\n",
            "*   **Llama 2 (from Meta):** An open-source LLM.\n",
            "*   **BLOOM:** A multilingual LLM trained on a massive dataset of text in 46 languages.\n",
            "\n",
            "**Limitations of LLMs:**\n",
            "\n",
            "Despite their impressive abilities, LLMs have limitations:\n",
            "\n",
            "*   **Lack of True Understanding:** They don't truly \"understand\" the meaning of the text they process. They are pattern recognition machines that can generate text that sounds intelligent, but they may not have a real-world understanding of the concepts involved.\n",
            "*   **Bias and Fairness:** LLMs can inherit biases from the data they are trained on, leading to outputs that are unfair, discriminatory, or offensive.\n",
            "*   **Hallucinations:** LLMs can sometimes generate incorrect or nonsensical information (often referred to as \"hallucinations\").  They may present this information as fact, even if it's not true.\n",
            "*   **Computational Cost:** Training and running LLMs requires significant computational resources.\n",
            "*   **Ethical Concerns:** Concerns about the potential misuse of LLMs for generating misinformation, deepfakes, or other harmful content.\n",
            "\n",
            "**In summary, a Large Language Model is a powerful AI tool that leverages massive amounts of text data and complex neural networks to understand, generate, and manipulate human language.  They are capable of a wide range of tasks, but it's important to be aware of their limitations and potential biases.**\n",
            "\n"
          ]
        }
      ]
    },
    {
      "cell_type": "code",
      "source": [
        "from google import genai\n",
        "from google.genai import types\n",
        "client = genai.Client(api_key=GOOGLE_API_KEY)"
      ],
      "metadata": {
        "id": "38RSPJMni23e"
      },
      "execution_count": 5,
      "outputs": []
    },
    {
      "cell_type": "code",
      "source": [
        "MODEL_ID =\"gemini-2.0-flash\""
      ],
      "metadata": {
        "id": "XGvXV8FajhvI"
      },
      "execution_count": 8,
      "outputs": []
    },
    {
      "cell_type": "code",
      "source": [
        "from IPython.display import Markdown\n",
        "response = client.models.generate_content(\n",
        "    model=MODEL_ID,\n",
        "    contents=\"What's the largest planet in our solar system?\"\n",
        "    )\n",
        "Markdown(response.text)"
      ],
      "metadata": {
        "colab": {
          "base_uri": "https://localhost:8080/",
          "height": 46
        },
        "id": "HSueAE-6mAvY",
        "outputId": "fb2c6517-4a81-4c7f-8174-ff72a8427e6c"
      },
      "execution_count": 12,
      "outputs": [
        {
          "output_type": "execute_result",
          "data": {
            "text/plain": [
              "<IPython.core.display.Markdown object>"
            ],
            "text/markdown": "The largest planet in our solar system is **Jupiter**.\n"
          },
          "metadata": {},
          "execution_count": 12
        }
      ]
    },
    {
      "cell_type": "code",
      "source": [
        "response = client.models.count_tokens(\n",
        "    model=MODEL_ID,\n",
        "    contents=\"What's the highest mountain in the Africa?\",\n",
        "    )\n",
        "print(response)"
      ],
      "metadata": {
        "colab": {
          "base_uri": "https://localhost:8080/"
        },
        "id": "R4j7yfUqmtCX",
        "outputId": "6a51edda-85b3-4bb0-c369-5a3f78895afe"
      },
      "execution_count": 16,
      "outputs": [
        {
          "output_type": "stream",
          "name": "stdout",
          "text": [
            "total_tokens=11 cached_content_token_count=None\n"
          ]
        }
      ]
    },
    {
      "cell_type": "code",
      "source": [
        "import requests\n",
        "import pathlib\n"
      ],
      "metadata": {
        "id": "FmEwFzpvnol4"
      },
      "execution_count": null,
      "outputs": []
    }
  ]
}